{
 "cells": [
  {
   "cell_type": "code",
   "execution_count": 1,
   "id": "c13c32b3",
   "metadata": {},
   "outputs": [
    {
     "name": "stdout",
     "output_type": "stream",
     "text": [
      "enter the length of sides:5\n",
      "area= 25\n"
     ]
    }
   ],
   "source": [
    "s=int(input(\"enter the length of sides:\"))\n",
    "a=s*s\n",
    "print(\"area=\",a)"
   ]
  },
  {
   "cell_type": "markdown",
   "id": "212e8981",
   "metadata": {},
   "source": []
  },
  {
   "cell_type": "code",
   "execution_count": 2,
   "id": "a9ab6338",
   "metadata": {},
   "outputs": [
    {
     "name": "stdout",
     "output_type": "stream",
     "text": [
      "area of the right angle triangle is:\n",
      "area= 20.0\n"
     ]
    }
   ],
   "source": [
    "a=5\n",
    "b=8\n",
    "area=(a*b)/2\n",
    "print(\"area of the right angle triangle is:\")\n",
    "print(\"area=\",area)"
   ]
  },
  {
   "cell_type": "code",
   "execution_count": 3,
   "id": "cde61693",
   "metadata": {},
   "outputs": [
    {
     "name": "stdout",
     "output_type": "stream",
     "text": [
      "hello,mohammed jaseem!\n"
     ]
    }
   ],
   "source": [
    "print(\"hello,mohammed jaseem!\")"
   ]
  },
  {
   "cell_type": "code",
   "execution_count": 10,
   "id": "fae1a118",
   "metadata": {},
   "outputs": [
    {
     "name": "stdout",
     "output_type": "stream",
     "text": [
      "enter the principal amount(p)500\n",
      "enter the rate of interest(r) in %:1\n",
      "enter the time period(t)in years:2\n",
      "simple interest is: 10.0\n"
     ]
    }
   ],
   "source": [
    "p=float(input(\"enter the principal amount(p)\"))\n",
    "r=float(input(\"enter the rate of interest(r) in %:\"))\n",
    "t=float(input(\"enter the time period(t)in years:\"))\n",
    "si=(p*r*t)/100\n",
    "print(\"simple interest is:\",si) "
   ]
  },
  {
   "cell_type": "code",
   "execution_count": null,
   "id": "a6326985",
   "metadata": {},
   "outputs": [],
   "source": []
  },
  {
   "cell_type": "code",
   "execution_count": 8,
   "id": "0641f641",
   "metadata": {},
   "outputs": [
    {
     "name": "stdout",
     "output_type": "stream",
     "text": [
      "enter an integer:5\n",
      "the previous number is: 4\n",
      "the next number is: 6\n"
     ]
    }
   ],
   "source": [
    "n=int(input(\"enter an integer:\"))\n",
    "print(\"the previous number is:\",n-1)\n",
    "print(\"the next number is:\",n+1)\n"
   ]
  },
  {
   "cell_type": "code",
   "execution_count": null,
   "id": "3fe07138",
   "metadata": {},
   "outputs": [],
   "source": []
  }
 ],
 "metadata": {
  "kernelspec": {
   "display_name": "Python 3 (ipykernel)",
   "language": "python",
   "name": "python3"
  },
  "language_info": {
   "codemirror_mode": {
    "name": "ipython",
    "version": 3
   },
   "file_extension": ".py",
   "mimetype": "text/x-python",
   "name": "python",
   "nbconvert_exporter": "python",
   "pygments_lexer": "ipython3",
   "version": "3.11.5"
  }
 },
 "nbformat": 4,
 "nbformat_minor": 5
}


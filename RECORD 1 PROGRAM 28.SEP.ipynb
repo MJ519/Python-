{
 "cells": [
  {
   "cell_type": "code",
   "execution_count": 14,
   "id": "cc10f9ab",
   "metadata": {},
   "outputs": [
    {
     "name": "stdout",
     "output_type": "stream",
     "text": [
      "enter the radius of the circle:3\n",
      "area of the circle: 28.274333882308138\n"
     ]
    }
   ],
   "source": [
    "# RADIUS OF CIRCLE\n",
    "import math\n",
    "r=int(input(\"enter the radius of the circle:\"))\n",
    "a=math.pi*r*r\n",
    "print(\"area of the circle:\",a)"
   ]
  },
  {
   "cell_type": "code",
   "execution_count": 11,
   "id": "29ef7d61",
   "metadata": {},
   "outputs": [
    {
     "name": "stdout",
     "output_type": "stream",
     "text": [
      "enter the integer value:5\n",
      "reasult: 615\n"
     ]
    }
   ],
   "source": [
    "#COMPUTE N+NN+NNN\n",
    "n=input(\"enter the integer value:\")\n",
    "r=int(n)+int(n*2)+int(n*3)\n",
    "print(\"reasult:\",r)"
   ]
  },
  {
   "cell_type": "code",
   "execution_count": 17,
   "id": "91984a57",
   "metadata": {},
   "outputs": [
    {
     "name": "stdout",
     "output_type": "stream",
     "text": [
      "enter a number A:5\n",
      "enter a number B:6\n",
      "enter a number C:7\n",
      "maximum: 7\n"
     ]
    }
   ],
   "source": [
    "#MAX OF 3 NUMBER\n",
    "import math\n",
    "a=int(input(\"enter a number A:\"))\n",
    "b=int(input(\"enter a number B:\"))\n",
    "c=int(input(\"enter a number C:\"))\n",
    "maximum=max(a,b,c)\n",
    "print(\"maximum:\",maximum)\n"
   ]
  },
  {
   "cell_type": "code",
   "execution_count": null,
   "id": "59e7ab54",
   "metadata": {},
   "outputs": [],
   "source": [
    "\n"
   ]
  }
 ],
 "metadata": {
  "kernelspec": {
   "display_name": "Python 3 (ipykernel)",
   "language": "python",
   "name": "python3"
  },
  "language_info": {
   "codemirror_mode": {
    "name": "ipython",
    "version": 3
   },
   "file_extension": ".py",
   "mimetype": "text/x-python",
   "name": "python",
   "nbconvert_exporter": "python",
   "pygments_lexer": "ipython3",
   "version": "3.11.5"
  }
 },
 "nbformat": 4,
 "nbformat_minor": 5
}

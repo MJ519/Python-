{
 "cells": [
  {
   "cell_type": "code",
   "execution_count": 2,
   "id": "aeef9b2e",
   "metadata": {},
   "outputs": [
    {
     "name": "stdout",
     "output_type": "stream",
     "text": [
      "enter the temprature in celius:10\n",
      "The fahrenheit of temprature is = 50.0\n"
     ]
    }
   ],
   "source": [
    "#COVERT CELIUS TO FAHRENHEIT\n",
    "t=int(input(\"enter the temprature in celius:\"))\n",
    "f=t*9/5+32\n",
    "print(\"The fahrenheit of temprature is =\",f)"
   ]
  },
  {
   "cell_type": "code",
   "execution_count": 4,
   "id": "b8e30350",
   "metadata": {},
   "outputs": [
    {
     "name": "stdout",
     "output_type": "stream",
     "text": [
      "enter the kilmeter:1\n",
      "1.0 is equal to 0.62137\n"
     ]
    }
   ],
   "source": [
    "#KILMETER TO MILES\n",
    "a=float(input(\"enter the kilmeter:\"))\n",
    "b=a*(0.62137)\n",
    "print(\"{} is equal to {}\".format(a,b))"
   ]
  },
  {
   "cell_type": "code",
   "execution_count": 1,
   "id": "f382865d",
   "metadata": {},
   "outputs": [
    {
     "name": "stdout",
     "output_type": "stream",
     "text": [
      "Enter the price of product A :20\n",
      "Enter the price of product B :30\n",
      "Enter the price of product C :50\n",
      "Final price (after 15% discount) : 85.0\n",
      "average price : 33.333333333333336\n",
      "Product A is more expensive than the final price : False\n",
      "Product B is more expensive than the final price : False\n",
      "Product C is more expensive than the final price : False\n",
      "Final price is in range between 60 to 200 :True \n"
     ]
    }
   ],
   "source": [
    "#THREE PRODUCTS\n",
    "A=float(input(\"Enter the price of product A :\"))\n",
    "B=float(input(\"Enter the price of product B :\"))\n",
    "C=float(input(\"Enter the price of product C :\"))\n",
    "total_price=A+B+C;\n",
    "discount=total_price*0.15\n",
    "final_price=total_price-discount\n",
    "print(f\"Final price (after 15% discount) : {final_price}\")\n",
    "avg_price=total_price/3;\n",
    "print(f\"average price : {avg_price}\")\n",
    "print(f\"Product A is more expensive than the final price : {A>final_price}\")\n",
    "print(f\"Product B is more expensive than the final price : {B>final_price}\")\n",
    "print(f\"Product C is more expensive than the final price : {C>final_price}\")\n",
    "print(f\"Final price is in range between 60 to 200 :{final_price>60 and final_price<200} \")"
   ]
  },
  {
   "cell_type": "code",
   "execution_count": null,
   "id": "e1e953ce",
   "metadata": {},
   "outputs": [],
   "source": []
  }
 ],
 "metadata": {
  "kernelspec": {
   "display_name": "Python 3 (ipykernel)",
   "language": "python",
   "name": "python3"
  },
  "language_info": {
   "codemirror_mode": {
    "name": "ipython",
    "version": 3
   },
   "file_extension": ".py",
   "mimetype": "text/x-python",
   "name": "python",
   "nbconvert_exporter": "python",
   "pygments_lexer": "ipython3",
   "version": "3.11.5"
  }
 },
 "nbformat": 4,
 "nbformat_minor": 5
}
